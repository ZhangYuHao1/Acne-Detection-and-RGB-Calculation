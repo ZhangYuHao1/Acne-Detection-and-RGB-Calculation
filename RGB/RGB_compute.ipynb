{
 "cells": [
  {
   "cell_type": "code",
   "execution_count": 1,
   "id": "9dc5b8ec",
   "metadata": {},
   "outputs": [
    {
     "name": "stderr",
     "output_type": "stream",
     "text": [
      "f:\\anaconda\\envs\\pytorch\\lib\\site-packages\\numpy\\_distributor_init.py:32: UserWarning: loaded more than 1 DLL from .libs:\n",
      "f:\\anaconda\\envs\\pytorch\\lib\\site-packages\\numpy\\.libs\\libopenblas.NOIJJG62EMASZI6NYURL6JBKM4EVBGM7.gfortran-win_amd64.dll\n",
      "f:\\anaconda\\envs\\pytorch\\lib\\site-packages\\numpy\\.libs\\libopenblas.TXA6YQSD3GCQQC22GEQ54J2UDCXDXHWN.gfortran-win_amd64.dll\n",
      "  stacklevel=1)\n"
     ]
    }
   ],
   "source": [
    "import cv2\n",
    "import random\n",
    "import numpy as np\n",
    "%matplotlib inline\n",
    "\n",
    "from  matplotlib import pyplot as plt\n",
    "\n",
    "# 读取需要处理的图片\n",
    "img = cv2.imread(r\"test1.jpg\")\n",
    "#img = cv2.cvtColor(img,cv2.COLOR_BGR2RGB) \n",
    "# img = cv2.resize(img,(600,600))\n",
    "\n",
    "#region1 =img[520:620,50:200] \n",
    "region1 =img[343:500,50:200] \n",
    "region2 =img[343:500,300:450]  \n",
    "# img = cv2.resize(img,(600,600))\n",
    "\n",
    "width, height = region1.shape[1], region1.shape[0]\n",
    "num = height * width\n",
    "\n",
    "# 脓疱\n",
    "R_mean1 = np.sum(region1[:, :, 0]) / num\n",
    "G_mean1 = np.sum(region1[:, :, 1]) / num\n",
    "B_mean1 = np.sum(region1[:, :, 2]) / num\n",
    "\n",
    "#正常\n",
    "R_mean2 = np.sum(region2[:, :, 0]) / num\n",
    "G_mean2 = np.sum(region2[:, :, 1]) / num\n",
    "B_mean2 = np.sum(region2[:, :, 2]) / num\n",
    "# print(\"{:.2f}\".format(R_mean),\"{:.2f}\".format(G_mean),\"{:.2f}\".format(B_mean))\n",
    "# Y=0.3 * R + 0.6 * G + 0.1 * B\n",
    "brightness1 = 0.3*R_mean1+0.6*G_mean1+0.1*B_mean1\n",
    "brightness2 = 0.3*R_mean2+0.6*G_mean1+0.2*B_mean2\n",
    "\n",
    "x = \"{:.2f}\".format(brightness1)\n",
    "y = \"{:.2f}\".format(brightness2)\n",
    "\n",
    "#img = cv2.rectangle(img, (760, 520),(870, 620),(0, 255, 0), 0)  \n",
    "img = cv2.rectangle(img, (50, 343),(200, 500),(0, 255, 0), 0)  \n",
    "img = cv2.rectangle(img,(300, 343),(450, 500), (0, 255, 0), 0)  \n",
    "\n",
    "# 在两个位置上方显示RGB亮度值\n",
    "font = cv2.FONT_HERSHEY_SIMPLEX\n",
    "#cv2.putText(img, f\"L1: {x}\", (750,510), font, 0.7, (0, 255, 0), 2)\n",
    "cv2.putText(img, f\"L1: {x}\", (40,330), font, 0.7, (0, 255, 0), 2)\n",
    "cv2.putText(img, f\"L2: {y}\", (280,330), font, 0.7, (0, 0, 255), 2)\n",
    "\n",
    "cv2.imshow(\"img\", img)  # 显示最终图片\n",
    "cv2.waitKey(0)\n",
    "cv2.destroyAllWindows()\n",
    "\n",
    "\n",
    "\n",
    "\n",
    "# im = cv2.imread(img,1)\t# load image as bgr\n",
    "# im2 = im[:,:,::-1] \t# transform image to rgb\n",
    "# plt.imshow(im2)\n",
    "# plt.show()"
   ]
  }
 ],
 "metadata": {
  "kernelspec": {
   "display_name": "Python 3 (ipykernel)",
   "language": "python",
   "name": "python3"
  },
  "language_info": {
   "codemirror_mode": {
    "name": "ipython",
    "version": 3
   },
   "file_extension": ".py",
   "mimetype": "text/x-python",
   "name": "python",
   "nbconvert_exporter": "python",
   "pygments_lexer": "ipython3",
   "version": "3.6.15"
  }
 },
 "nbformat": 4,
 "nbformat_minor": 5
}
